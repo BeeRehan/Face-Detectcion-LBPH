{
 "cells": [
  {
   "cell_type": "code",
   "execution_count": 3,
   "metadata": {},
   "outputs": [],
   "source": [
    "import cv2\n",
    "import numpy as np\n",
    "import pickle as pkl"
   ]
  },
  {
   "cell_type": "code",
   "execution_count": 4,
   "metadata": {},
   "outputs": [
    {
     "name": "stdout",
     "output_type": "stream",
     "text": [
      "80.9451533928021\n",
      "77.26132696699857\n",
      "78.84704077917581\n",
      "80.09198966830807\n",
      "79.01603370210985\n",
      "79.1958397236575\n",
      "80.08034698976667\n",
      "80.29053938663067\n",
      "79.97003816414579\n",
      "79.63958003381698\n",
      "79.75870592273492\n",
      "79.32760332459858\n",
      "79.07408648773983\n",
      "79.3143541805502\n",
      "79.71283556194322\n",
      "79.89915812687882\n",
      "80.20683928414553\n"
     ]
    }
   ],
   "source": [
    "face_detector = cv2.CascadeClassifier(r\"C:\\Users\\MD\\Documents\\Python Scripts\\lockdown #1\\src\\haarcascades\\haarcascade_frontalface_alt2.xml\")\n",
    "\n",
    "recognizer = cv2.face.LBPHFaceRecognizer_create()\n",
    "recognizer.read(\"face-trainer.yml\")\n",
    "\n",
    "with open(\"face-labels.pkl\", 'rb') as f:\n",
    "    og_labels = pkl.load(f)\n",
    "    labels = {v:k for k,v in og_labels.items()}\n",
    "\n",
    "cap = cv2.VideoCapture(0)              \n",
    "while(True):\n",
    "    status,frame = cap.read()\n",
    "    \n",
    "    gray = cv2.cvtColor(frame,cv2.COLOR_BGR2GRAY)\n",
    "    \n",
    "    faces = face_detector.detectMultiScale(gray,1.2,3)\n",
    "    \n",
    "    for x,y,w,h in faces:\n",
    "        \n",
    "        id,conf = recognizer.predict(gray)\n",
    "        print(conf)\n",
    "        if conf >= 65:\n",
    "              cv2.putText(frame,labels[id],(x,y),cv2.FONT_ITALIC,1,(100,255,133),2,cv2.LINE_AA)\n",
    "        else:\n",
    "             cv2.putText(frame,\"Unknown\",(x,y),cv2.FONT_HERSHEY_PLAIN,3,(0,255,133),2,cv2.LINE_AA) \n",
    "        cv2.rectangle(frame,(x,y),(x+w,y+h),(255,0,200),5,)\n",
    "    cv2.imshow(\"MD\",frame)\n",
    "    \n",
    "    if cv2.waitKey(1) & 0xFF == ord('q'):\n",
    "        break\n",
    "\n",
    "cap.release()\n",
    "cv2.destroyAllWindows()"
   ]
  },
  {
   "cell_type": "code",
   "execution_count": 5,
   "metadata": {},
   "outputs": [
    {
     "data": {
      "text/plain": [
       "{0: 'MORATTU-COMMITED', 1: 'MORATU-SINGLE', 2: 'SATHYA'}"
      ]
     },
     "execution_count": 5,
     "metadata": {},
     "output_type": "execute_result"
    }
   ],
   "source": [
    "labels"
   ]
  },
  {
   "cell_type": "code",
   "execution_count": null,
   "metadata": {},
   "outputs": [],
   "source": []
  },
  {
   "cell_type": "code",
   "execution_count": null,
   "metadata": {},
   "outputs": [],
   "source": []
  }
 ],
 "metadata": {
  "kernelspec": {
   "display_name": "Python 3",
   "language": "python",
   "name": "python3"
  },
  "language_info": {
   "codemirror_mode": {
    "name": "ipython",
    "version": 3
   },
   "file_extension": ".py",
   "mimetype": "text/x-python",
   "name": "python",
   "nbconvert_exporter": "python",
   "pygments_lexer": "ipython3",
   "version": "3.8.3"
  }
 },
 "nbformat": 4,
 "nbformat_minor": 4
}
