{
 "cells": [
  {
   "cell_type": "code",
   "execution_count": 5,
   "metadata": {},
   "outputs": [],
   "source": [
    "import cv2\n",
    "import numpy as np\n",
    "import pickle as pkl\n",
    "from PIL import Image\n",
    "import os"
   ]
  },
  {
   "cell_type": "code",
   "execution_count": 6,
   "metadata": {},
   "outputs": [],
   "source": [
    "BaseDir = os.path.dirname(os.path.abspath(\"trainer.ipynb\"))\n",
    "srcDir = os.path.join(BaseDir,\"src\")"
   ]
  },
  {
   "cell_type": "code",
   "execution_count": 7,
   "metadata": {},
   "outputs": [],
   "source": [
    "faceDetector = cv2.CascadeClassifier(r'C:\\Users\\MD\\Documents\\Python Scripts\\lockdown #1\\src\\haarcascades\\haarcascade_frontalface_alt2.xml')\n",
    "recognizer = cv2.face.LBPHFaceRecognizer_create()"
   ]
  },
  {
   "cell_type": "code",
   "execution_count": 9,
   "metadata": {},
   "outputs": [],
   "source": [
    "current_id = 0\n",
    "label_ids = {}\n",
    "ylabels = []\n",
    "xtrain = []"
   ]
  },
  {
   "cell_type": "code",
   "execution_count": 10,
   "metadata": {},
   "outputs": [],
   "source": [
    "for root,dir,files in os.walk(srcDir):\n",
    "    for file in files:\n",
    "        if file.endswith(\"png\") or file.endswith(\"jpg\"):\n",
    "            path = os.path.join(root,file)\n",
    "            label = os.path.basename(root).replace(\" \",\"-\").upper()\n",
    "            if not label in label_ids:\n",
    "                label_ids[label] = current_id\n",
    "                current_id += 1\n",
    "            id = label_ids[label]\n",
    "            \n",
    "            pilImage = Image.open(path).convert(\"L\")\n",
    "            size = (550,550)\n",
    "            finalImage = pilImage.resize(size,Image.ANTIALIAS)\n",
    "            imageArray = np.array(finalImage,\"uint8\")\n",
    "            \n",
    "            faces = faceDetector.detectMultiScale(imageArray, scaleFactor=1.5, minNeighbors=5)\n",
    "\n",
    "            \n",
    "            for x,y,w,h in faces:\n",
    "                roi = imageArray[y:y+h,x:x+w]\n",
    "                xtrain.append(roi)\n",
    "                ylabels.append(id)"
   ]
  },
  {
   "cell_type": "code",
   "execution_count": 11,
   "metadata": {},
   "outputs": [],
   "source": [
    "with open(\"face-labels.pkl\", 'wb') as f:\n",
    "    pkl.dump(label_ids, f)\n",
    "\n",
    "recognizer.train(xtrain, np.array(ylabels))\n",
    "recognizer.save(\"face-trainer.yml\")"
   ]
  },
  {
   "cell_type": "code",
   "execution_count": 20,
   "metadata": {},
   "outputs": [
    {
     "data": {
      "text/plain": [
       "'C:\\\\Users\\\\MD\\\\Documents\\\\Python Scripts\\\\lockdown #1\\\\face-detection lbph'"
      ]
     },
     "execution_count": 20,
     "metadata": {},
     "output_type": "execute_result"
    }
   ],
   "source": []
  },
  {
   "cell_type": "code",
   "execution_count": null,
   "metadata": {},
   "outputs": [],
   "source": []
  }
 ],
 "metadata": {
  "kernelspec": {
   "display_name": "Python 3",
   "language": "python",
   "name": "python3"
  },
  "language_info": {
   "codemirror_mode": {
    "name": "ipython",
    "version": 3
   },
   "file_extension": ".py",
   "mimetype": "text/x-python",
   "name": "python",
   "nbconvert_exporter": "python",
   "pygments_lexer": "ipython3",
   "version": "3.8.3"
  }
 },
 "nbformat": 4,
 "nbformat_minor": 4
}
