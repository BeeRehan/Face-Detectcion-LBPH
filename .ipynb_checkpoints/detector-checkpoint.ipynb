{
 "cells": [
  {
   "cell_type": "code",
   "execution_count": 3,
   "metadata": {},
   "outputs": [],
   "source": [
    "import cv2\n",
    "import numpy as np\n",
    "import pickle as pkl"
   ]
  },
  {
   "cell_type": "code",
   "execution_count": 4,
   "metadata": {},
   "outputs": [
    {
     "name": "stdout",
     "output_type": "stream",
     "text": [
      "76.4560613876432\n",
      "75.48913294585068\n",
      "75.58552995368522\n",
      "75.21326205757649\n",
      "75.3806173050948\n",
      "75.04986239806884\n",
      "75.44419191660276\n",
      "75.58647554643304\n",
      "74.73023788834192\n",
      "75.34018093613902\n",
      "75.46629754214068\n",
      "75.30172052409407\n",
      "75.41378256549903\n",
      "75.26767709024116\n",
      "74.80272376563389\n",
      "74.96110841644604\n",
      "74.90560168257267\n",
      "74.13775405673128\n",
      "74.73740314492267\n",
      "74.56935299985109\n",
      "74.66550242617545\n",
      "74.86508175077455\n",
      "75.40567648509807\n",
      "75.01026395745815\n",
      "75.0756972729712\n",
      "75.0756972729712\n",
      "75.62177239694063\n",
      "75.83102805914218\n",
      "75.49700890584657\n",
      "75.69093425473727\n",
      "76.43635363519478\n",
      "77.34475450552739\n",
      "77.89120054615269\n",
      "77.36546127326729\n",
      "76.81252929508673\n",
      "76.36858248927584\n",
      "76.09356831261933\n",
      "76.84427168350491\n",
      "76.96699883472579\n",
      "76.22293936595237\n",
      "76.03835906716064\n",
      "76.69363898951924\n",
      "77.12540978885599\n",
      "75.80354646572015\n",
      "76.83900715096304\n",
      "76.57719591347802\n",
      "75.77416015767933\n",
      "75.9235973369236\n",
      "76.08920633789658\n",
      "76.44039976010487\n",
      "76.32087372804908\n",
      "75.48187628585063\n",
      "75.52705911216866\n",
      "75.56075242089206\n",
      "76.0650316049558\n",
      "76.21273837065472\n",
      "75.64597048878825\n",
      "76.72170096255029\n",
      "76.56370941909036\n",
      "76.29511813452477\n",
      "76.30950044635824\n"
     ]
    }
   ],
   "source": [
    "face_detector = cv2.CascadeClassifier(r\"C:\\Users\\MD\\Documents\\Python Scripts\\lockdown #1\\src\\haarcascades\\haarcascade_frontalface_alt2.xml\")\n",
    "\n",
    "recognizer = cv2.face.LBPHFaceRecognizer_create()\n",
    "recognizer.read(\"face-trainer.yml\")\n",
    "\n",
    "with open(\"face-labels.pkl\", 'rb') as f:\n",
    "    og_labels = pkl.load(f)\n",
    "    labels = {v:k for k,v in og_labels.items()}\n",
    "\n",
    "cap = cv2.VideoCapture(0)              \n",
    "while(True):\n",
    "    status,frame = cap.read()\n",
    "    \n",
    "    gray = cv2.cvtColor(frame,cv2.COLOR_BGR2GRAY)\n",
    "    \n",
    "    faces = face_detector.detectMultiScale(gray,1.2,3)\n",
    "    \n",
    "    for x,y,w,h in faces:\n",
    "        \n",
    "        id,conf = recognizer.predict(gray)\n",
    "        print(conf)\n",
    "        if conf >= 65:\n",
    "              cv2.putText(frame,labels[id],(x,y),cv2.FONT_ITALIC,1,(100,255,133),2,cv2.LINE_AA)\n",
    "        else:\n",
    "             cv2.putText(frame,\"Unknown\",(x,y),cv2.FONT_HERSHEY_PLAIN,3,(0,255,133),2,cv2.LINE_AA) \n",
    "        cv2.rectangle(frame,(x,y),(x+w,y+h),(255,0,200),5,)\n",
    "    cv2.imshow(\"MD\",frame)\n",
    "    \n",
    "    if cv2.waitKey(1) & 0xFF == ord('q'):\n",
    "        break\n",
    "\n",
    "cap.release()\n",
    "cv2.destroyAllWindows()"
   ]
  },
  {
   "cell_type": "code",
   "execution_count": null,
   "metadata": {},
   "outputs": [],
   "source": []
  },
  {
   "cell_type": "code",
   "execution_count": null,
   "metadata": {},
   "outputs": [],
   "source": []
  }
 ],
 "metadata": {
  "kernelspec": {
   "display_name": "Python 3",
   "language": "python",
   "name": "python3"
  },
  "language_info": {
   "codemirror_mode": {
    "name": "ipython",
    "version": 3
   },
   "file_extension": ".py",
   "mimetype": "text/x-python",
   "name": "python",
   "nbconvert_exporter": "python",
   "pygments_lexer": "ipython3",
   "version": "3.8.3"
  }
 },
 "nbformat": 4,
 "nbformat_minor": 4
}
